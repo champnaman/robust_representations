{
 "cells": [
  {
   "cell_type": "code",
   "execution_count": 1,
   "metadata": {},
   "outputs": [
    {
     "name": "stdout",
     "output_type": "stream",
     "text": [
      "Imports done\n"
     ]
    }
   ],
   "source": [
    "import torch\n",
    "from torch.autograd import Variable\n",
    "from torchvision import models\n",
    "import torch.nn as nn\n",
    "import torch.nn.functional as F\n",
    "from torchvision.transforms import transforms\n",
    "import ipdb\n",
    "import sys, glob\n",
    "import numpy as np\n",
    "from PIL import Image\n",
    "import time\n",
    "import os\n",
    "from robustness_lib.robustness import model_utils, datasets\n",
    "from user_constants import DATA_PATH_DICT\n",
    "\n",
    "import warnings\n",
    "warnings.filterwarnings(\"ignore\")\n",
    "\n",
    "print('Imports done')"
   ]
  },
  {
   "cell_type": "code",
   "execution_count": 2,
   "metadata": {},
   "outputs": [],
   "source": [
    "# Constants\n",
    "DATA = 'ImageNet'  # Choices: ['CIFAR', 'ImageNet', 'RestrictedImageNet']\n",
    "BATCH_SIZE = 1000\n",
    "# BATCH_SIZE = 2\n",
    "NUM_WORKERS = 8\n",
    "NOISE_SCALE = 20\n",
    "\n",
    "DATA_SHAPE = 32 if DATA == 'CIFAR' else 224  # Image size (fixed for dataset)\n",
    "REPRESENTATION_SIZE = 2048  # Size of representation vector (fixed for model)"
   ]
  },
  {
   "cell_type": "code",
   "execution_count": 3,
   "metadata": {},
   "outputs": [
    {
     "name": "stdout",
     "output_type": "stream",
     "text": [
      "==> Preparing dataset imagenet..\n",
      "Data iterator created\n"
     ]
    }
   ],
   "source": [
    "# Load dataset\n",
    "dataset_function = getattr(datasets, DATA)\n",
    "dataset = dataset_function(DATA_PATH_DICT[DATA])\n",
    "_, test_loader = dataset.make_loaders(workers=NUM_WORKERS,\n",
    "                                      batch_size=BATCH_SIZE // 2,\n",
    "                                      data_aug=False, only_val=True)\n",
    "data_iterator = enumerate(test_loader)\n",
    "print('Data iterator created')"
   ]
  },
  {
   "cell_type": "code",
   "execution_count": 4,
   "metadata": {},
   "outputs": [
    {
     "name": "stdout",
     "output_type": "stream",
     "text": [
      "=> loading checkpoint './models/ImageNet.pt'\n",
      "=> loaded checkpoint './models/ImageNet.pt' (epoch 105)\n",
      "Model created\n"
     ]
    }
   ],
   "source": [
    "# Load model\n",
    "model_kwargs = {\n",
    "    'arch': 'resnet50',\n",
    "    'dataset': dataset,\n",
    "    'resume_path': f'./models/{DATA}.pt'\n",
    "}\n",
    "model_kwargs['state_dict_path'] = 'model'\n",
    "model, _ = model_utils.make_and_restore_model(**model_kwargs)\n",
    "model.eval()\n",
    "for p in model.parameters():\n",
    "    p.requires_grad = False\n",
    "print('Model created')"
   ]
  },
  {
   "cell_type": "code",
   "execution_count": 5,
   "metadata": {},
   "outputs": [
    {
     "name": "stdout",
     "output_type": "stream",
     "text": [
      "Batch is: 0\n",
      "Correct images are 14/500\n",
      "Batch is: 20\n",
      "Correct images are 335/10500\n",
      "Batch is: 40\n",
      "Correct images are 650/20500\n",
      "Batch is: 60\n",
      "Correct images are 981/30500\n",
      "Batch is: 80\n",
      "Correct images are 1240/40500\n",
      "Final results - Correct images are 1555/50000\n"
     ]
    }
   ],
   "source": [
    "correct = 0\n",
    "im_count = 0\n",
    "for idx, (im, targ, path) in data_iterator:\n",
    "    im_count += im.shape[0]\n",
    "    targ = targ.cpu().numpy()\n",
    "    log, _ = model(im) \n",
    "    probs = F.softmax(log, dim=1).cpu()\n",
    "\n",
    "    labels = torch.argmax(probs, dim=-1).numpy()\n",
    "    correct += np.size(np.where((targ - labels) == 0))\n",
    "    \n",
    "    if idx%20 == 0:\n",
    "        print(f'Batch is: {idx}')\n",
    "        print(f'Correct images are {correct}/{im_count}')\n",
    "\n",
    "print(f'Final results - Correct images are {correct}/{im_count}')\n"
   ]
  },
  {
   "cell_type": "code",
   "execution_count": 6,
   "metadata": {},
   "outputs": [
    {
     "name": "stdout",
     "output_type": "stream",
     "text": [
      "Percentage of correct images are 3.11%\n"
     ]
    }
   ],
   "source": [
    "print(f'Percentage of correct images are {correct*100/im_count}%')"
   ]
  }
 ],
 "metadata": {
  "kernelspec": {
   "display_name": "Python 3",
   "language": "python",
   "name": "python3"
  },
  "language_info": {
   "codemirror_mode": {
    "name": "ipython",
    "version": 3
   },
   "file_extension": ".py",
   "mimetype": "text/x-python",
   "name": "python",
   "nbconvert_exporter": "python",
   "pygments_lexer": "ipython3",
   "version": "3.6.9"
  }
 },
 "nbformat": 4,
 "nbformat_minor": 2
}
